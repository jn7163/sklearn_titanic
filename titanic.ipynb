{
 "cells": [
  {
   "cell_type": "code",
   "execution_count": 1,
   "metadata": {
    "collapsed": false,
    "deletable": true,
    "editable": true
   },
   "outputs": [
    {
     "name": "stdout",
     "output_type": "stream",
     "text": [
      "       PassengerId    Survived      Pclass         Age       SibSp  \\\n",
      "count   891.000000  891.000000  891.000000  714.000000  891.000000   \n",
      "mean    446.000000    0.383838    2.308642   29.699118    0.523008   \n",
      "std     257.353842    0.486592    0.836071   14.526497    1.102743   \n",
      "min       1.000000    0.000000    1.000000    0.420000    0.000000   \n",
      "25%     223.500000    0.000000    2.000000   20.125000    0.000000   \n",
      "50%     446.000000    0.000000    3.000000   28.000000    0.000000   \n",
      "75%     668.500000    1.000000    3.000000   38.000000    1.000000   \n",
      "max     891.000000    1.000000    3.000000   80.000000    8.000000   \n",
      "\n",
      "            Parch        Fare  \n",
      "count  891.000000  891.000000  \n",
      "mean     0.381594   32.204208  \n",
      "std      0.806057   49.693429  \n",
      "min      0.000000    0.000000  \n",
      "25%      0.000000    7.910400  \n",
      "50%      0.000000   14.454200  \n",
      "75%      0.000000   31.000000  \n",
      "max      6.000000  512.329200  \n"
     ]
    }
   ],
   "source": [
    "# 读取数据\n",
    "import pandas\n",
    "titanic = pandas.read_csv(\"titanic_train.csv\")\n",
    "# titanic.head(3)\n",
    "print titanic.describe()"
   ]
  },
  {
   "cell_type": "code",
   "execution_count": 2,
   "metadata": {
    "collapsed": false,
    "deletable": true,
    "editable": true
   },
   "outputs": [
    {
     "name": "stdout",
     "output_type": "stream",
     "text": [
      "       PassengerId    Survived      Pclass         Age       SibSp  \\\n",
      "count   891.000000  891.000000  891.000000  891.000000  891.000000   \n",
      "mean    446.000000    0.383838    2.308642   29.361582    0.523008   \n",
      "std     257.353842    0.486592    0.836071   13.019697    1.102743   \n",
      "min       1.000000    0.000000    1.000000    0.420000    0.000000   \n",
      "25%     223.500000    0.000000    2.000000   22.000000    0.000000   \n",
      "50%     446.000000    0.000000    3.000000   28.000000    0.000000   \n",
      "75%     668.500000    1.000000    3.000000   35.000000    1.000000   \n",
      "max     891.000000    1.000000    3.000000   80.000000    8.000000   \n",
      "\n",
      "            Parch        Fare  \n",
      "count  891.000000  891.000000  \n",
      "mean     0.381594   32.204208  \n",
      "std      0.806057   49.693429  \n",
      "min      0.000000    0.000000  \n",
      "25%      0.000000    7.910400  \n",
      "50%      0.000000   14.454200  \n",
      "75%      0.000000   31.000000  \n",
      "max      6.000000  512.329200  \n"
     ]
    }
   ],
   "source": [
    "# 对 Age 列数据预处理\n",
    "titanic[\"Age\"] = titanic[\"Age\"].fillna(titanic[\"Age\"].median())\n",
    "print titanic.describe()"
   ]
  },
  {
   "cell_type": "code",
   "execution_count": 3,
   "metadata": {
    "collapsed": false,
    "deletable": true,
    "editable": true
   },
   "outputs": [
    {
     "name": "stdout",
     "output_type": "stream",
     "text": [
      "['male' 'female']\n"
     ]
    }
   ],
   "source": [
    "# 对 Sex 列数据预处理，机器学习的输入为数字类型，不能为字符类型\n",
    "print titanic[\"Sex\"].unique()\n",
    "\n",
    "# Replace all the occurences of male with the number 0.\n",
    "titanic.loc[titanic[\"Sex\"] == \"male\", \"Sex\"] = 0\n",
    "titanic.loc[titanic[\"Sex\"] == \"female\", \"Sex\"] = 1\n"
   ]
  },
  {
   "cell_type": "code",
   "execution_count": 4,
   "metadata": {
    "collapsed": false,
    "deletable": true,
    "editable": true
   },
   "outputs": [
    {
     "name": "stdout",
     "output_type": "stream",
     "text": [
      "['S' 'C' 'Q' nan]\n"
     ]
    }
   ],
   "source": [
    "print titanic[\"Embarked\"].unique()\n",
    "titanic[\"Embarked\"] = titanic[\"Embarked\"].fillna('S')  # 谁出现次数多就用谁。S 出现频率高\n",
    "titanic.loc[titanic[\"Embarked\"] == \"S\", \"Embarked\"] = 0\n",
    "titanic.loc[titanic[\"Embarked\"] == \"C\", \"Embarked\"] = 1\n",
    "titanic.loc[titanic[\"Embarked\"] == \"Q\", \"Embarked\"] = 2\n"
   ]
  },
  {
   "cell_type": "code",
   "execution_count": 5,
   "metadata": {
    "collapsed": false,
    "deletable": true,
    "editable": true
   },
   "outputs": [
    {
     "name": "stderr",
     "output_type": "stream",
     "text": [
      "/usr/local/lib/python2.7/dist-packages/sklearn/cross_validation.py:44: DeprecationWarning: This module was deprecated in version 0.18 in favor of the model_selection module into which all the refactored classes and functions are moved. Also note that the interface of the new CV iterators are different from that of this module. This module will be removed in 0.20.\n",
      "  \"This module will be removed in 0.20.\", DeprecationWarning)\n"
     ]
    }
   ],
   "source": [
    "# Import the linear regression class\n",
    "from sklearn.linear_model import LinearRegression\n",
    "# Sklearn also has a helper that makes it easy to do cross validation\n",
    "from sklearn.cross_validation import KFold\n",
    "\n",
    "# The columns we'll use to predict the target\n",
    "predictors = [\"Pclass\", \"Sex\", \"Age\", \"SibSp\", \"Parch\", \"Fare\", \"Embarked\"]\n",
    "\n",
    "# Initialize our algorithm class\n",
    "alg = LinearRegression()\n",
    "# Generate cross validation folds for the titanic dataset.  It return the row indices corresponding to train and test.\n",
    "# We set random_state to ensure we get the same splits every time we run this.\n",
    "kf = KFold(titanic.shape[0], n_folds=3, random_state=1)\n",
    "\n",
    "predictions = []\n",
    "for train, test in kf:\n",
    "    # The predictors we're using the train the algorithm.  Note how we only take the rows in the train folds.\n",
    "    train_predictors = (titanic[predictors].iloc[train,:])\n",
    "    # The target we're using to train the algorithm.\n",
    "    train_target = titanic[\"Survived\"].iloc[train]\n",
    "    # Training the algorithm using the predictors and target.\n",
    "    alg.fit(train_predictors, train_target)\n",
    "    # We can now make predictions on the test fold\n",
    "    test_predictions = alg.predict(titanic[predictors].iloc[test,:])\n",
    "    predictions.append(test_predictions)"
   ]
  },
  {
   "cell_type": "code",
   "execution_count": 6,
   "metadata": {
    "collapsed": false,
    "deletable": true,
    "editable": true
   },
   "outputs": [
    {
     "name": "stdout",
     "output_type": "stream",
     "text": [
      "0.783389450056\n"
     ]
    },
    {
     "name": "stderr",
     "output_type": "stream",
     "text": [
      "/usr/local/lib/python2.7/dist-packages/ipykernel/__main__.py:10: FutureWarning: in the future, boolean array-likes will be handled as a boolean array index\n"
     ]
    }
   ],
   "source": [
    "import numpy as np\n",
    "\n",
    "# The predictions are in three separate numpy arrays.  Concatenate them into one.  \n",
    "# We concatenate them on axis 0, as they only have one axis.\n",
    "predictions = np.concatenate(predictions, axis=0)\n",
    "\n",
    "# Map predictions to outcomes (only possible outcomes are 1 and 0)\n",
    "predictions[predictions > .5] = 1\n",
    "predictions[predictions <=.5] = 0\n",
    "accuracy = sum(predictions[predictions == titanic[\"Survived\"]]) / len(predictions)\n",
    "print accuracy"
   ]
  },
  {
   "cell_type": "code",
   "execution_count": 7,
   "metadata": {
    "collapsed": false,
    "deletable": true,
    "editable": true
   },
   "outputs": [
    {
     "name": "stdout",
     "output_type": "stream",
     "text": [
      "0.787878787879\n"
     ]
    }
   ],
   "source": [
    "from sklearn import cross_validation\n",
    "from sklearn.linear_model import LogisticRegression\n",
    "# Initialize our algorithm\n",
    "alg = LogisticRegression(random_state=1)\n",
    "# Compute the accuracy score for all the cross validation folds.  (much simpler than what we did before!)\n",
    "scores = cross_validation.cross_val_score(alg, titanic[predictors], titanic[\"Survived\"], cv=3)\n",
    "# Take the mean of the scores (because we have one for each fold)\n",
    "print(scores.mean())"
   ]
  },
  {
   "cell_type": "code",
   "execution_count": 8,
   "metadata": {
    "collapsed": false,
    "deletable": true,
    "editable": true
   },
   "outputs": [],
   "source": [
    "titanic_test = pandas.read_csv(\"titanic_test.csv\")\n",
    "titanic_test[\"Age\"] = titanic_test[\"Age\"].fillna(titanic[\"Age\"].median())\n",
    "titanic_test[\"Fare\"] = titanic_test[\"Fare\"].fillna(titanic_test[\"Fare\"].median())\n",
    "titanic_test.loc[titanic_test[\"Sex\"] == \"male\", \"Sex\"] = 0 \n",
    "titanic_test.loc[titanic_test[\"Sex\"] == \"female\", \"Sex\"] = 1\n",
    "titanic_test[\"Embarked\"] = titanic_test[\"Embarked\"].fillna(\"S\")\n",
    "\n",
    "titanic_test.loc[titanic_test[\"Embarked\"] == \"S\", \"Embarked\"] = 0\n",
    "titanic_test.loc[titanic_test[\"Embarked\"] == \"C\", \"Embarked\"] = 1\n",
    "titanic_test.loc[titanic_test[\"Embarked\"] == \"Q\", \"Embarked\"] = 2"
   ]
  },
  {
   "cell_type": "code",
   "execution_count": 9,
   "metadata": {
    "collapsed": false,
    "deletable": true,
    "editable": true
   },
   "outputs": [
    {
     "name": "stdout",
     "output_type": "stream",
     "text": [
      "0.79012345679\n"
     ]
    }
   ],
   "source": [
    "from sklearn import cross_validation\n",
    "from sklearn.ensemble import RandomForestClassifier\n",
    "\n",
    "predictors = [\"Pclass\", \"Sex\", \"Age\", \"SibSp\", \"Parch\", \"Fare\", \"Embarked\"]\n",
    "\n",
    "# Initialize our algorithm with the default paramters\n",
    "# n_estimators is the number of trees we want to make\n",
    "# min_samples_split is the minimum number of rows we need to make a split\n",
    "# min_samples_leaf is the minimum number of samples we can have at the place where a tree branch ends (the bottom points of the tree)\n",
    "alg = RandomForestClassifier(random_state=1, n_estimators=50, min_samples_split=2, min_samples_leaf=1)\n",
    "# Compute the accuracy score for all the cross validation folds.  (much simpler than what we did before!)\n",
    "kf = cross_validation.KFold(titanic.shape[0], n_folds=3, random_state=1)\n",
    "scores = cross_validation.cross_val_score(alg, titanic[predictors], titanic[\"Survived\"], cv=kf)\n",
    "\n",
    "# Take the mean of the scores (because we have one for each fold)\n",
    "print(scores.mean())"
   ]
  },
  {
   "cell_type": "code",
   "execution_count": 10,
   "metadata": {
    "collapsed": false,
    "deletable": true,
    "editable": true
   },
   "outputs": [
    {
     "name": "stdout",
     "output_type": "stream",
     "text": [
      "0.814814814815\n"
     ]
    }
   ],
   "source": [
    "alg = RandomForestClassifier(random_state=1, n_estimators=100, min_samples_split=4, min_samples_leaf=2)\n",
    "# Compute the accuracy score for all the cross validation folds.  (much simpler than what we did before!)\n",
    "kf = cross_validation.KFold(titanic.shape[0], 3, random_state=1)\n",
    "scores = cross_validation.cross_val_score(alg, titanic[predictors], titanic[\"Survived\"], cv=kf)\n",
    "\n",
    "# Take the mean of the scores (because we have one for each fold)\n",
    "print(scores.mean())"
   ]
  },
  {
   "cell_type": "code",
   "execution_count": 11,
   "metadata": {
    "collapsed": true,
    "deletable": true,
    "editable": true
   },
   "outputs": [],
   "source": [
    "# Generating a familysize column\n",
    "titanic[\"FamilySize\"] = titanic[\"SibSp\"] + titanic[\"Parch\"]\n",
    "\n",
    "# The .apply method generates a new series\n",
    "titanic[\"NameLength\"] = titanic[\"Name\"].apply(lambda x: len(x))"
   ]
  },
  {
   "cell_type": "code",
   "execution_count": 12,
   "metadata": {
    "collapsed": false,
    "deletable": true,
    "editable": true
   },
   "outputs": [
    {
     "name": "stdout",
     "output_type": "stream",
     "text": [
      "Mr          517\n",
      "Miss        182\n",
      "Mrs         125\n",
      "Master       40\n",
      "Dr            7\n",
      "Rev           6\n",
      "Col           2\n",
      "Major         2\n",
      "Mlle          2\n",
      "Countess      1\n",
      "Ms            1\n",
      "Lady          1\n",
      "Jonkheer      1\n",
      "Don           1\n",
      "Mme           1\n",
      "Capt          1\n",
      "Sir           1\n",
      "Name: Name, dtype: int64\n",
      "1     517\n",
      "2     183\n",
      "3     125\n",
      "4      40\n",
      "5       7\n",
      "6       6\n",
      "7       5\n",
      "10      3\n",
      "8       3\n",
      "9       2\n",
      "Name: Name, dtype: int64\n"
     ]
    }
   ],
   "source": [
    "import re\n",
    "\n",
    "# A function to get the title from a name.\n",
    "def get_title(name):\n",
    "    # Use a regular expression to search for a title.  Titles always consist of capital and lowercase letters, and end with a period.\n",
    "    title_search = re.search(' ([A-Za-z]+)\\.', name)\n",
    "    # If the title exists, extract and return it.\n",
    "    if title_search:\n",
    "        return title_search.group(1)\n",
    "    return \"\"\n",
    "\n",
    "# Get all the titles and print how often each one occurs.\n",
    "titles = titanic[\"Name\"].apply(get_title)\n",
    "print(pandas.value_counts(titles))\n",
    "\n",
    "# Map each title to an integer.  Some titles are very rare, and are compressed into the same codes as other titles.\n",
    "title_mapping = {\"Mr\": 1, \"Miss\": 2, \"Mrs\": 3, \"Master\": 4, \"Dr\": 5, \"Rev\": 6, \"Major\": 7, \"Col\": 7, \"Mlle\": 8, \"Mme\": 8, \"Don\": 9, \"Lady\": 10, \"Countess\": 10, \"Jonkheer\": 10, \"Sir\": 9, \"Capt\": 7, \"Ms\": 2}\n",
    "for k,v in title_mapping.items():\n",
    "    titles[titles == k] = v\n",
    "\n",
    "# Verify that we converted everything.\n",
    "print(pandas.value_counts(titles))\n",
    "\n",
    "# Add in the title column.\n",
    "titanic[\"Title\"] = titles"
   ]
  },
  {
   "cell_type": "code",
   "execution_count": 13,
   "metadata": {
    "collapsed": false,
    "deletable": true,
    "editable": true
   },
   "outputs": [
    {
     "data": {
      "image/png": "[encoded data removed]",
      "text/plain": [
       "<matplotlib.figure.Figure at 0x7f1c03916610>"
      ]
     },
     "metadata": {},
     "output_type": "display_data"
    }
   ],
   "source": [
    "import numpy as np\n",
    "from sklearn.feature_selection import SelectKBest, f_classif\n",
    "import matplotlib.pyplot as plt\n",
    "predictors = [\"Pclass\", \"Sex\", \"Age\", \"SibSp\", \"Parch\", \"Fare\", \"Embarked\", \"FamilySize\", \"Title\", \"NameLength\"]\n",
    "\n",
    "# Perform feature selection\n",
    "selector = SelectKBest(f_classif, k=5)\n",
    "selector.fit(titanic[predictors], titanic[\"Survived\"])\n",
    "\n",
    "# Get the raw p-values for each feature, and transform from p-values into scores\n",
    "scores = -np.log10(selector.pvalues_)\n",
    "\n",
    "# Plot the scores.  See how \"Pclass\", \"Sex\", \"Title\", and \"Fare\" are the best?\n",
    "plt.bar(range(len(predictors)), scores)\n",
    "plt.xticks(range(len(predictors)), predictors, rotation='vertical')\n",
    "plt.show()\n",
    "\n",
    "# Pick only the four best features.\n",
    "predictors = [\"Pclass\", \"Sex\", \"Fare\", \"Title\"]\n",
    "\n",
    "alg = RandomForestClassifier(random_state=1, n_estimators=50, min_samples_split=8, min_samples_leaf=4)"
   ]
  },
  {
   "cell_type": "code",
   "execution_count": 14,
   "metadata": {
    "collapsed": false,
    "deletable": true,
    "editable": true
   },
   "outputs": [
    {
     "name": "stdout",
     "output_type": "stream",
     "text": [
      "0.821548821549\n"
     ]
    },
    {
     "name": "stderr",
     "output_type": "stream",
     "text": [
      "/usr/local/lib/python2.7/dist-packages/ipykernel/__main__.py:37: FutureWarning: in the future, boolean array-likes will be handled as a boolean array index\n"
     ]
    }
   ],
   "source": [
    "from sklearn.ensemble import GradientBoostingClassifier\n",
    "import numpy as np\n",
    "\n",
    "# The algorithms we want to ensemble.\n",
    "# We're using the more linear predictors for the logistic regression, and everything with the gradient boosting classifier.\n",
    "algorithms = [\n",
    "    [GradientBoostingClassifier(random_state=1, n_estimators=25, max_depth=3), [\"Pclass\", \"Sex\", \"Age\", \"Fare\", \"Embarked\", \"FamilySize\", \"Title\",]],\n",
    "    [LogisticRegression(random_state=1), [\"Pclass\", \"Sex\", \"Fare\", \"FamilySize\", \"Title\", \"Age\", \"Embarked\"]]\n",
    "]\n",
    "\n",
    "# Initialize the cross validation folds\n",
    "kf = KFold(titanic.shape[0], n_folds=3, random_state=1)\n",
    "\n",
    "predictions = []\n",
    "for train, test in kf:\n",
    "    train_target = titanic[\"Survived\"].iloc[train]\n",
    "    full_test_predictions = []\n",
    "    # Make predictions for each algorithm on each fold\n",
    "    for alg, predictors in algorithms:\n",
    "        # Fit the algorithm on the training data.\n",
    "        alg.fit(titanic[predictors].iloc[train,:], train_target)\n",
    "        # Select and predict on the test fold.  \n",
    "        # The .astype(float) is necessary to convert the dataframe to all floats and avoid an sklearn error.\n",
    "        test_predictions = alg.predict_proba(titanic[predictors].iloc[test,:].astype(float))[:,1]\n",
    "        full_test_predictions.append(test_predictions)\n",
    "    # Use a simple ensembling scheme -- just average the predictions to get the final classification.\n",
    "    test_predictions = (full_test_predictions[0] + full_test_predictions[1]) / 2\n",
    "    # Any value over .5 is assumed to be a 1 prediction, and below .5 is a 0 prediction.\n",
    "    test_predictions[test_predictions <= .5] = 0\n",
    "    test_predictions[test_predictions > .5] = 1\n",
    "    predictions.append(test_predictions)\n",
    "\n",
    "# Put all the predictions together into one array.\n",
    "predictions = np.concatenate(predictions, axis=0)\n",
    "\n",
    "# Compute accuracy by comparing to the training data.\n",
    "accuracy = sum(predictions[predictions == titanic[\"Survived\"]]) / len(predictions)\n",
    "print(accuracy)\n"
   ]
  },
  {
   "cell_type": "code",
   "execution_count": 15,
   "metadata": {
    "collapsed": false,
    "deletable": true,
    "editable": true,
    "scrolled": true
   },
   "outputs": [
    {
     "name": "stdout",
     "output_type": "stream",
     "text": [
      "1     517\n",
      "2     183\n",
      "3     125\n",
      "4      40\n",
      "5       7\n",
      "6       6\n",
      "7       5\n",
      "10      3\n",
      "8       3\n",
      "9       2\n",
      "Name: Title, dtype: int64\n"
     ]
    }
   ],
   "source": [
    "titles = titanic_test[\"Name\"].apply(get_title)\n",
    "# We're adding the Dona title to the mapping, because it's in the test set, but not the training set\n",
    "title_mapping = {\"Mr\": 1, \"Miss\": 2, \"Mrs\": 3, \"Master\": 4, \"Dr\": 5, \"Rev\": 6, \"Major\": 7, \"Col\": 7, \"Mlle\": 8, \"Mme\": 8, \"Don\": 9, \"Lady\": 10, \"Countess\": 10, \"Jonkheer\": 10, \"Sir\": 9, \"Capt\": 7, \"Ms\": 2, \"Dona\": 10}\n",
    "for k,v in title_mapping.items():\n",
    "    titles[titles == k] = v\n",
    "titanic_test[\"Title\"] = titles\n",
    "# Check the counts of each unique title.\n",
    "print(pandas.value_counts(titanic_test[\"Title\"]))\n",
    "\n",
    "# Now, we add the family size column.\n",
    "titanic_test[\"FamilySize\"] = titanic_test[\"SibSp\"] + titanic_test[\"Parch\"]\n",
    "\n"
   ]
  },
  {
   "cell_type": "code",
   "execution_count": 16,
   "metadata": {
    "collapsed": false,
    "deletable": true,
    "editable": true
   },
   "outputs": [
    {
     "data": {
      "text/plain": [
       "array([ 0.11555847,  0.90191898,  0.56034921,  0.90845972,  0.12132173,\n",
       "        0.14753982,  0.2006528 ,  0.19353475,  0.50980008,  0.90315573,\n",
       "        0.69038818,  0.85144357,  0.13706469,  0.13208613,  0.62212719,\n",
       "        0.81697877,  0.16508419,  0.15907955,  0.57105387,  0.66166949,\n",
       "        0.14750188,  0.14669336,  0.68782999,  0.3458794 ,  0.29840966,\n",
       "        0.18558816,  0.13207437,  0.35425927,  0.65492658,  0.12105179,\n",
       "        0.55624443,  0.91536561,  0.65489625,  0.11449426,  0.37893007,\n",
       "        0.28536382,  0.13207484,  0.1361114 ,  0.55121486,  0.62364362,\n",
       "        0.43575504,  0.86429604,  0.13214996,  0.90614544,  0.67077814,\n",
       "        0.13014002,  0.13615253,  0.65489625,  0.12665717,  0.59726003,\n",
       "        0.1366695 ,  0.12700875,  0.89403597,  0.86241695,  0.19020612,\n",
       "        0.3458794 ,  0.82724931,  0.1316241 ,  0.88452412,  0.10331272,\n",
       "        0.13799582,  0.89630934,  0.32017101,  0.14412659,  0.36852989,\n",
       "        0.36939412,  0.83504323,  0.13805778,  0.44009584,  0.11718584,\n",
       "        0.15290987,  0.1956415 ,  0.23881036,  0.13283381,  0.28020773,\n",
       "        0.12343848,  0.12105179,  0.13014002,  0.8031102 ,  0.50658708,\n",
       "        0.13529202,  0.12951615,  0.65490506,  0.33510918,  0.83201252,\n",
       "        0.53103596,  0.14697705,  0.13014002,  0.88438883,  0.13340572,\n",
       "        0.1293814 ,  0.12796771,  0.31365973,  0.10689002,  0.09290966,\n",
       "        0.13014002,  0.17464667,  0.38493943,  0.85453408,  0.13488027,\n",
       "        0.5560594 ,  0.12105179,  0.36811888,  0.12265751,  0.12071421,\n",
       "        0.12105179,  0.58394125,  0.12104026,  0.10159305,  0.58924575,\n",
       "        0.29043707,  0.62345322,  0.13518412,  0.51060465,  0.60843242,\n",
       "        0.15339036,  0.09394708,  0.14391262,  0.43250368,  0.26162514,\n",
       "        0.20605287,  0.13014002,  0.19064193,  0.81131602,  0.21854052,\n",
       "        0.52576807,  0.1378962 ,  0.12423501,  0.62409779,  0.09797718,\n",
       "        0.1131883 ,  0.12787153,  0.42135479,  0.86241695,  0.16371884,\n",
       "        0.18430542,  0.88285528,  0.41457856,  0.14130286,  0.40472407,\n",
       "        0.59807989,  0.58193952,  0.58514855,  0.1345698 ,  0.17529466,\n",
       "        0.19007373,  0.12182278,  0.25705855,  0.12109499,  0.28753797,\n",
       "        0.2674411 ,  0.91023543,  0.10817092,  0.10410214,  0.1209962 ,\n",
       "        0.24617006,  0.69828734,  0.12864491,  0.13019856,  0.10079688,\n",
       "        0.10567771,  0.84319746,  0.12262431,  0.14016479,  0.14215761,\n",
       "        0.60397488,  0.91340216,  0.15844168,  0.23605772,  0.28366691,\n",
       "        0.17836996,  0.16189707,  0.64905287,  0.15339036,  0.21447883,\n",
       "        0.1129839 ,  0.1189588 ,  0.87127694,  0.1561441 ,  0.10547651,\n",
       "        0.14217314,  0.17547971,  0.13355454,  0.78114986,  0.70859569,\n",
       "        0.33590995,  0.65193687,  0.42372102,  0.11007817,  0.10605915,\n",
       "        0.83169874,  0.1738377 ,  0.57189731,  0.79739704,  0.88540074,\n",
       "        0.89211003,  0.1378962 ,  0.1060775 ,  0.65489625,  0.82377509,\n",
       "        0.1302788 ,  0.1469565 ,  0.10719434,  0.1015982 ,  0.13905111,\n",
       "        0.66112644,  0.11862148,  0.14489438,  0.69829051,  0.32646854,\n",
       "        0.12422522,  0.84524348,  0.12602002,  0.1561441 ,  0.12609324,\n",
       "        0.9035607 ,  0.55821716,  0.16647467,  0.90485733,  0.15570037,\n",
       "        0.14114693,  0.1605945 ,  0.10973204,  0.12105179,  0.33497984,\n",
       "        0.13533186,  0.17328803,  0.12741681,  0.17563031,  0.21278071,\n",
       "        0.9039491 ,  0.1202824 ,  0.11886939,  0.2549958 ,  0.16482587,\n",
       "        0.56927449,  0.12136604,  0.87337256,  0.17328803,  0.14789997,\n",
       "        0.57133173,  0.63328255,  0.15714262,  0.12600589,  0.12519961,\n",
       "        0.54588725,  0.57573075,  0.82127395,  0.40043694,  0.30347935,\n",
       "        0.12099025,  0.50514966,  0.26820373,  0.1197813 ,  0.48960141,\n",
       "        0.59592484,  0.91517776,  0.90244774,  0.91869322,  0.82310978,\n",
       "        0.1378962 ,  0.13708276,  0.22574924,  0.1785942 ,  0.65489625,\n",
       "        0.1437448 ,  0.13471941,  0.11351492,  0.89187738,  0.90310076,\n",
       "        0.34464881,  0.12265362,  0.83865216,  0.31629657,  0.65489625,\n",
       "        0.84266977,  0.46879334,  0.14763028,  0.15945472,  0.5652393 ,\n",
       "        0.09568228,  0.12104782,  0.14134082,  0.13804444,  0.25547179,\n",
       "        0.12804048,  0.12877571,  0.12609312,  0.13339991,  0.66573735,\n",
       "        0.9042176 ,  0.91608587,  0.1530796 ,  0.51842943,  0.12431568,\n",
       "        0.36852989,  0.1364244 ,  0.7687011 ,  0.34451232,  0.90745261,\n",
       "        0.65489625,  0.13065313,  0.12799293,  0.84056583,  0.13014002,\n",
       "        0.84499449,  0.91295539,  0.91736951,  0.15201472,  0.91209789,\n",
       "        0.91319513,  0.90163243,  0.85539035,  0.12105179,  0.11607782,\n",
       "        0.57363823,  0.86894652,  0.29301143,  0.89776561,  0.90058936,\n",
       "        0.12602002,  0.1218326 ,  0.83214614,  0.86914293,  0.1469565 ,\n",
       "        0.90664512,  0.09232557,  0.82631569,  0.57434107,  0.92044669,\n",
       "        0.63733739,  0.30158969,  0.35140361,  0.12396295,  0.91131228,\n",
       "        0.12105179,  0.34759998,  0.90382888,  0.11220897,  0.30408054,\n",
       "        0.79964937,  0.88355166,  0.15907955,  0.16371884,  0.14413106,\n",
       "        0.82377509,  0.79372156,  0.5769519 ,  0.69116508,  0.11367861,\n",
       "        0.1344122 ,  0.34574248,  0.1254771 ,  0.12311259,  0.13207437,\n",
       "        0.1302788 ,  0.90759337,  0.79731748,  0.65492658,  0.65492658,\n",
       "        0.13297913,  0.20210342,  0.48147907,  0.10660752,  0.13615253,\n",
       "        0.11949952,  0.88248592,  0.66167042,  0.65489625,  0.8661013 ,\n",
       "        0.46601709,  0.11857039,  0.13804444,  0.42421776,  0.34033325,\n",
       "        0.91216176,  0.5818131 ,  0.39973399,  0.12580772,  0.12893707,\n",
       "        0.9091437 ,  0.75738267,  0.1445193 ,  0.89788805,  0.12105179,\n",
       "        0.24472811,  0.12573533,  0.80552774,  0.13789345,  0.84585572,\n",
       "        0.31647716,  0.12700826,  0.13287189,  0.91182505,  0.56893467,\n",
       "        0.12608179,  0.56281056,  0.13091216,  0.36558359,  0.83654301,\n",
       "        0.13147408,  0.13172565,  0.50844485,  0.12097792,  0.52652189,\n",
       "        0.13418757,  0.09554682,  0.79536834,  0.12700584,  0.21278071,\n",
       "        0.12105179,  0.12384328,  0.90412733,  0.14763028,  0.12893021,\n",
       "        0.53978839,  0.85088849,  0.80948186,  0.1561441 ,  0.54725941,\n",
       "        0.13214996,  0.14606372,  0.12029166,  0.50847611,  0.12275723,\n",
       "        0.12099025,  0.86378449,  0.86829889,  0.1378962 ,  0.12723635,\n",
       "        0.46618803,  0.5769519 ,  0.83830604,  0.13089161,  0.31034153,\n",
       "        0.90939785,  0.2301012 ,  0.80173424,  0.17637028,  0.1542895 ,\n",
       "        0.81743098,  0.13723888,  0.11351492,  0.81819465,  0.13014599,\n",
       "        0.83909669,  0.87583038,  0.45331262,  0.75050962,  0.54447073,\n",
       "        0.15406815,  0.12130019,  0.35438201,  0.32694998,  0.13014002,\n",
       "        0.1312527 ,  0.26449318,  0.90269538,  0.77346025,  0.1378962 ,\n",
       "        0.41842951,  0.12195492,  0.28739433,  0.1274418 ,  0.13014002,\n",
       "        0.10153361,  0.14763028,  0.30291773,  0.13789289,  0.75886431,\n",
       "        0.12099025,  0.11581844,  0.829738  ,  0.84934257,  0.52279438,\n",
       "        0.33646294,  0.13418757,  0.110955  ,  0.12605065,  0.66150858,\n",
       "        0.12117405,  0.14763028,  0.11011177,  0.40200418,  0.38818828,\n",
       "        0.21278071,  0.90449174,  0.2110066 ,  0.12864491,  0.58619479,\n",
       "        0.12130019,  0.12694474,  0.205174  ,  0.16760424,  0.1361114 ,\n",
       "        0.14244876,  0.87850641,  0.13082171,  0.90577562,  0.12430497,\n",
       "        0.14016479,  0.66743978,  0.65486789,  0.48216928,  0.91838373,\n",
       "        0.40886294,  0.84388412,  0.46618803,  0.13155872,  0.28554784,\n",
       "        0.13684425,  0.13014002,  0.49239772,  0.88705231,  0.12427286,\n",
       "        0.30013102,  0.82865056,  0.14967222,  0.85196589,  0.11814977,\n",
       "        0.90296842,  0.12609312,  0.13207437,  0.89631217,  0.13207484,\n",
       "        0.10857141,  0.77346025,  0.40972886,  0.13147408,  0.12464897,\n",
       "        0.75362614,  0.13207484,  0.12383973,  0.64519237,  0.5055543 ,\n",
       "        0.87462858,  0.49279663,  0.90780044,  0.13076302,  0.89987062,\n",
       "        0.88185159,  0.2213661 ,  0.21712159,  0.1410085 ,  0.25800381,\n",
       "        0.11556526,  0.87472587,  0.17523122,  0.11079677,  0.72099997,\n",
       "        0.39415396,  0.16310282,  0.13790667,  0.13799527,  0.58194584,\n",
       "        0.26820373,  0.8478089 ,  0.43514955,  0.8938992 ,  0.55991477,\n",
       "        0.1378962 ,  0.10049261,  0.15917255,  0.13014002,  0.50973632,\n",
       "        0.11930475,  0.12895193,  0.28005445,  0.13207484,  0.11814625,\n",
       "        0.1167436 ,  0.8662122 ,  0.49242309,  0.65489625,  0.14114693,\n",
       "        0.13884737,  0.80888188,  0.90553063,  0.59133188,  0.1445193 ,\n",
       "        0.84515048,  0.8992148 ,  0.12367154,  0.33046231,  0.14179214,\n",
       "        0.89952544,  0.1286021 ,  0.20965985,  0.13518412,  0.13014002,\n",
       "        0.1066133 ,  0.89145305,  0.0971153 ,  0.622454  ,  0.12800254,\n",
       "        0.1097575 ,  0.86574727,  0.09594114,  0.13207437,  0.69360869,\n",
       "        0.84614716,  0.12105179,  0.33381422,  0.1126709 ,  0.46605382,\n",
       "        0.11270787,  0.11955752,  0.34671969,  0.86974996,  0.9013886 ,\n",
       "        0.15617169,  0.12097122,  0.63328255,  0.1378962 ,  0.12132173,\n",
       "        0.83276875,  0.11007058,  0.58112554,  0.89343634,  0.1616582 ,\n",
       "        0.13205668,  0.40527819,  0.13155805,  0.12701506,  0.13706292,\n",
       "        0.17817443,  0.29964654,  0.90672123,  0.12263653,  0.13789399,\n",
       "        0.33552687,  0.09551468,  0.55885264,  0.2182101 ,  0.23761194,\n",
       "        0.81819465,  0.1445193 ,  0.13363111,  0.16788148,  0.12099734,\n",
       "        0.12796771,  0.8661013 ,  0.2783054 ,  0.28366691,  0.75886431,\n",
       "        0.32596004,  0.12895193,  0.53124913,  0.12101882,  0.57983851,\n",
       "        0.12105179,  0.85937549,  0.13615612,  0.65491484,  0.61449727,\n",
       "        0.20180344,  0.12105179,  0.6183302 ,  0.1669685 ,  0.21799801,\n",
       "        0.52710191,  0.10482372,  0.18881576,  0.1060292 ,  0.14258909,\n",
       "        0.19182378,  0.16371884,  0.12104026,  0.11314795,  0.90270591,\n",
       "        0.83812701,  0.31315802,  0.1125126 ,  0.15472351,  0.14763028,\n",
       "        0.12994281,  0.13297663,  0.5307284 ,  0.14188502,  0.65349213,\n",
       "        0.59769989,  0.3973109 ,  0.13720577,  0.13086664,  0.14115255,\n",
       "        0.16926583,  0.13548746,  0.13830654,  0.12994544,  0.92130697,\n",
       "        0.42748337,  0.72483462,  0.28366691,  0.13491425,  0.44442303,\n",
       "        0.12403678,  0.1126709 ,  0.65489233,  0.31781654,  0.09944441,\n",
       "        0.92047596,  0.49445468,  0.59214729,  0.14122073,  0.11286542,\n",
       "        0.13866381,  0.80790929,  0.47252988,  0.91009925,  0.36939412,\n",
       "        0.86075836,  0.46618803,  0.27536023,  0.12951459,  0.12398618,\n",
       "        0.12892169,  0.91073287,  0.81919302,  0.14848342,  0.10794816,\n",
       "        0.90823634,  0.11945634,  0.14669336,  0.12566485,  0.43488276,\n",
       "        0.13713816,  0.83392824,  0.65489332,  0.15004282,  0.54549937,\n",
       "        0.91024821,  0.23652331,  0.14763028,  0.1669685 ,  0.1669685 ,\n",
       "        0.13052636,  0.16816859,  0.66442858,  0.12105179,  0.12105179,\n",
       "        0.34437589,  0.33621944,  0.90016354,  0.1236648 ,  0.14521268,\n",
       "        0.45401704,  0.12416381,  0.81521618,  0.40885052,  0.12971346,\n",
       "        0.89511917,  0.66708397,  0.1227273 ,  0.12519187,  0.80791192,\n",
       "        0.76633277,  0.12104225,  0.17529466,  0.12195492,  0.85807313,\n",
       "        0.13076302,  0.09991864,  0.14018957,  0.89407904,  0.13203674,\n",
       "        0.88938265,  0.56167808,  0.63990559,  0.13711502,  0.12726284,\n",
       "        0.13356151,  0.09672843,  0.78480549,  0.13207437,  0.74958044,\n",
       "        0.12993965,  0.1378962 ,  0.66930111,  0.13789455,  0.90868679,\n",
       "        0.69370783,  0.90283973,  0.34218242,  0.10622824,  0.12337615,\n",
       "        0.12339691,  0.58983732,  0.15800273,  0.69309638,  0.34598573,\n",
       "        0.1378962 ,  0.18234551,  0.14217314,  0.36936099,  0.12346406,\n",
       "        0.13675352,  0.82757115,  0.53398658,  0.12520006,  0.5097872 ,\n",
       "        0.14669336,  0.84737869,  0.78353207,  0.6923772 ,  0.12174229,\n",
       "        0.11883253,  0.18046606,  0.58990445,  0.13675352,  0.90993526,\n",
       "        0.12263569,  0.11635011,  0.14500128,  0.22627712,  0.12828481,\n",
       "        0.2182101 ,  0.5666267 ,  0.18366316,  0.09888075,  0.12198881,\n",
       "        0.88118445,  0.13098155,  0.41430838,  0.52709162,  0.14084197,\n",
       "        0.12385537,  0.28366691,  0.81898696,  0.1378962 ,  0.87426101,\n",
       "        0.6392666 ,  0.80025883,  0.13207484,  0.12518729,  0.13908275,\n",
       "        0.88763071,  0.13618288,  0.13014002,  0.28020773,  0.36908272,\n",
       "        0.15434324,  0.1787262 ,  0.89934974,  0.1038217 ,  0.14016479,\n",
       "        0.09943821,  0.1469565 ,  0.11165642,  0.43800079,  0.91254848,\n",
       "        0.13606909,  0.08957835,  0.64136781,  0.90866587,  0.83467385,\n",
       "        0.54428267,  0.8980533 ,  0.32965814,  0.6360917 ,  0.13207484,\n",
       "        0.10392641,  0.15319841,  0.88027593,  0.14217314,  0.16532807,\n",
       "        0.81273472,  0.82444778,  0.32940888,  0.1302788 ,  0.65551567,\n",
       "        0.12263653,  0.88830257,  0.19752216,  0.11137909,  0.87214964,\n",
       "        0.69040042,  0.13728054,  0.12895193,  0.12105179,  0.88805565,\n",
       "        0.86770178,  0.10795808,  0.52296547,  0.15861632,  0.12337615,\n",
       "        0.21378651,  0.32671469,  0.90133721,  0.46471603,  0.37368143,\n",
       "        0.1287431 ])"
      ]
     },
     "execution_count": 16,
     "metadata": {},
     "output_type": "execute_result"
    }
   ],
   "source": [
    "predictors = [\"Pclass\", \"Sex\", \"Age\", \"Fare\", \"Embarked\", \"FamilySize\", \"Title\"]\n",
    "\n",
    "algorithms = [\n",
    "    [GradientBoostingClassifier(random_state=1, n_estimators=25, max_depth=3), predictors],\n",
    "    [LogisticRegression(random_state=1), [\"Pclass\", \"Sex\", \"Fare\", \"FamilySize\", \"Title\", \"Age\", \"Embarked\"]]\n",
    "]\n",
    "\n",
    "full_predictions = []\n",
    "for alg, predictors in algorithms:\n",
    "    # Fit the algorithm using the full training data.\n",
    "    alg.fit(titanic[predictors], titanic[\"Survived\"])\n",
    "    # Predict using the test dataset.  We have to convert all the columns to floats to avoid an error.\n",
    "    predictions = alg.predict_proba(titanic_test[predictors].astype(float))[:,1]\n",
    "    full_predictions.append(predictions)\n",
    "\n",
    "# The gradient boosting classifier generates better predictions, so we weight it higher.\n",
    "predictions = (full_predictions[0] * 3 + full_predictions[1]) / 4\n",
    "predictions"
   ]
  }
 ],
 "metadata": {
  "kernelspec": {
   "display_name": "Python 2",
   "language": "python",
   "name": "python2"
  },
  "language_info": {
   "codemirror_mode": {
    "name": "ipython",
    "version": 2
   },
   "file_extension": ".py",
   "mimetype": "text/x-python",
   "name": "python",
   "nbconvert_exporter": "python",
   "pygments_lexer": "ipython2",
   "version": "2.7.6"
  }
 },
 "nbformat": 4,
 "nbformat_minor": 1
}
